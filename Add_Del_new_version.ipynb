{
  "cells": [
    {
      "cell_type": "markdown",
      "metadata": {
        "id": "vqul3ftlae5l"
      },
      "source": [
        "Add\n",
        "\n",
        "https://colab.research.google.com/drive/1b6ubEvtESajClbxcc7YZ7vtVhj2mdidz"
      ]
    },
    {
      "cell_type": "markdown",
      "metadata": {
        "id": "NUV4d3hZZd9Z"
      },
      "source": [
        "# Imports + Data"
      ]
    },
    {
      "cell_type": "code",
      "execution_count": 1,
      "metadata": {
        "id": "P4sd0PK0Y2Gk"
      },
      "outputs": [],
      "source": [
        "import pandas as pd\n",
        "import numpy as np\n",
        "\n",
        "from sklearn.model_selection import train_test_split\n",
        "from sklearn.linear_model import LogisticRegression\n",
        "from sklearn.metrics import f1_score, precision_score, recall_score, accuracy_score, roc_auc_score\n",
        "from sklearn.metrics import roc_curve, auc\n",
        "\n",
        "import plotly.graph_objects as go\n",
        "pd.set_option('display.max_columns', None)\n",
        "\n",
        "import warnings\n",
        "warnings.filterwarnings('ignore')"
      ]
    },
    {
      "cell_type": "code",
      "execution_count": 2,
      "metadata": {
        "id": "uLRN50dhY4tE"
      },
      "outputs": [],
      "source": [
        "STD_DATA_PATH = 'https://raw.githubusercontent.com/auplt/Flight-Satisfaction/data/data_std.pkl'\n",
        "Y_FEATURE = 'satisfaction'\n",
        "TEST_SIZE = 0.3\n",
        "\n",
        "GRAPH_WIDTH = 700\n",
        "GRAPH_HEIGHT = 500"
      ]
    },
    {
      "cell_type": "code",
      "execution_count": 3,
      "metadata": {
        "id": "FbYazNyRY4qa"
      },
      "outputs": [],
      "source": [
        "# Загрузка данных\n",
        "df = pd.read_pickle(STD_DATA_PATH)\n",
        "\n",
        "X, y = df.drop([Y_FEATURE], axis=1), df[Y_FEATURE]\n",
        "X_train, X_test, y_train, y_test = train_test_split(X, y, test_size=TEST_SIZE, stratify=y)\n",
        "\n",
        "y_train = y_train.to_frame()\n",
        "y_test = y_test.to_frame()\n",
        "\n",
        "X_train = X_train.reset_index().drop(columns='index')\n",
        "X_test = X_test.reset_index().drop(columns='index')\n",
        "y_train = y_train.reset_index().drop(columns='index')\n",
        "y_test = y_test.reset_index().drop(columns='index')"
      ]
    },
    {
      "cell_type": "code",
      "execution_count": 4,
      "metadata": {
        "id": "S-v0eixlY4np"
      },
      "outputs": [],
      "source": [
        "DELTA = 2\n",
        "ALL_FEATURES = list(X_train.columns)\n",
        "COUNT_FEATURES = len(ALL_FEATURES)"
      ]
    },
    {
      "cell_type": "markdown",
      "metadata": {
        "id": "d_uSatA9ZcBt"
      },
      "source": [
        "# Model"
      ]
    },
    {
      "cell_type": "code",
      "execution_count": 5,
      "metadata": {
        "id": "sy4EfLxjY4k5"
      },
      "outputs": [],
      "source": [
        "C = 0.001\n",
        "TOL = 100\n",
        "CLASS_WEIGHT = \"balanced\""
      ]
    },
    {
      "cell_type": "code",
      "execution_count": 6,
      "metadata": {
        "colab": {
          "base_uri": "https://localhost:8080/",
          "height": 0
        },
        "id": "h7gzimbIY4iB",
        "outputId": "8537c583-a2df-46dc-c604-af8224573fda"
      },
      "outputs": [
        {
          "data": {
            "text/html": [
              "<style>#sk-container-id-1 {color: black;}#sk-container-id-1 pre{padding: 0;}#sk-container-id-1 div.sk-toggleable {background-color: white;}#sk-container-id-1 label.sk-toggleable__label {cursor: pointer;display: block;width: 100%;margin-bottom: 0;padding: 0.3em;box-sizing: border-box;text-align: center;}#sk-container-id-1 label.sk-toggleable__label-arrow:before {content: \"▸\";float: left;margin-right: 0.25em;color: #696969;}#sk-container-id-1 label.sk-toggleable__label-arrow:hover:before {color: black;}#sk-container-id-1 div.sk-estimator:hover label.sk-toggleable__label-arrow:before {color: black;}#sk-container-id-1 div.sk-toggleable__content {max-height: 0;max-width: 0;overflow: hidden;text-align: left;background-color: #f0f8ff;}#sk-container-id-1 div.sk-toggleable__content pre {margin: 0.2em;color: black;border-radius: 0.25em;background-color: #f0f8ff;}#sk-container-id-1 input.sk-toggleable__control:checked~div.sk-toggleable__content {max-height: 200px;max-width: 100%;overflow: auto;}#sk-container-id-1 input.sk-toggleable__control:checked~label.sk-toggleable__label-arrow:before {content: \"▾\";}#sk-container-id-1 div.sk-estimator input.sk-toggleable__control:checked~label.sk-toggleable__label {background-color: #d4ebff;}#sk-container-id-1 div.sk-label input.sk-toggleable__control:checked~label.sk-toggleable__label {background-color: #d4ebff;}#sk-container-id-1 input.sk-hidden--visually {border: 0;clip: rect(1px 1px 1px 1px);clip: rect(1px, 1px, 1px, 1px);height: 1px;margin: -1px;overflow: hidden;padding: 0;position: absolute;width: 1px;}#sk-container-id-1 div.sk-estimator {font-family: monospace;background-color: #f0f8ff;border: 1px dotted black;border-radius: 0.25em;box-sizing: border-box;margin-bottom: 0.5em;}#sk-container-id-1 div.sk-estimator:hover {background-color: #d4ebff;}#sk-container-id-1 div.sk-parallel-item::after {content: \"\";width: 100%;border-bottom: 1px solid gray;flex-grow: 1;}#sk-container-id-1 div.sk-label:hover label.sk-toggleable__label {background-color: #d4ebff;}#sk-container-id-1 div.sk-serial::before {content: \"\";position: absolute;border-left: 1px solid gray;box-sizing: border-box;top: 0;bottom: 0;left: 50%;z-index: 0;}#sk-container-id-1 div.sk-serial {display: flex;flex-direction: column;align-items: center;background-color: white;padding-right: 0.2em;padding-left: 0.2em;position: relative;}#sk-container-id-1 div.sk-item {position: relative;z-index: 1;}#sk-container-id-1 div.sk-parallel {display: flex;align-items: stretch;justify-content: center;background-color: white;position: relative;}#sk-container-id-1 div.sk-item::before, #sk-container-id-1 div.sk-parallel-item::before {content: \"\";position: absolute;border-left: 1px solid gray;box-sizing: border-box;top: 0;bottom: 0;left: 50%;z-index: -1;}#sk-container-id-1 div.sk-parallel-item {display: flex;flex-direction: column;z-index: 1;position: relative;background-color: white;}#sk-container-id-1 div.sk-parallel-item:first-child::after {align-self: flex-end;width: 50%;}#sk-container-id-1 div.sk-parallel-item:last-child::after {align-self: flex-start;width: 50%;}#sk-container-id-1 div.sk-parallel-item:only-child::after {width: 0;}#sk-container-id-1 div.sk-dashed-wrapped {border: 1px dashed gray;margin: 0 0.4em 0.5em 0.4em;box-sizing: border-box;padding-bottom: 0.4em;background-color: white;}#sk-container-id-1 div.sk-label label {font-family: monospace;font-weight: bold;display: inline-block;line-height: 1.2em;}#sk-container-id-1 div.sk-label-container {text-align: center;}#sk-container-id-1 div.sk-container {/* jupyter's `normalize.less` sets `[hidden] { display: none; }` but bootstrap.min.css set `[hidden] { display: none !important; }` so we also need the `!important` here to be able to override the default hidden behavior on the sphinx rendered scikit-learn.org. See: https://github.com/scikit-learn/scikit-learn/issues/21755 */display: inline-block !important;position: relative;}#sk-container-id-1 div.sk-text-repr-fallback {display: none;}</style><div id=\"sk-container-id-1\" class=\"sk-top-container\"><div class=\"sk-text-repr-fallback\"><pre>LogisticRegression(C=0.001, class_weight=&#x27;balanced&#x27;, tol=100)</pre><b>In a Jupyter environment, please rerun this cell to show the HTML representation or trust the notebook. <br />On GitHub, the HTML representation is unable to render, please try loading this page with nbviewer.org.</b></div><div class=\"sk-container\" hidden><div class=\"sk-item\"><div class=\"sk-estimator sk-toggleable\"><input class=\"sk-toggleable__control sk-hidden--visually\" id=\"sk-estimator-id-1\" type=\"checkbox\" checked><label for=\"sk-estimator-id-1\" class=\"sk-toggleable__label sk-toggleable__label-arrow\">LogisticRegression</label><div class=\"sk-toggleable__content\"><pre>LogisticRegression(C=0.001, class_weight=&#x27;balanced&#x27;, tol=100)</pre></div></div></div></div></div>"
            ],
            "text/plain": [
              "LogisticRegression(C=0.001, class_weight='balanced', tol=100)"
            ]
          },
          "execution_count": 6,
          "metadata": {},
          "output_type": "execute_result"
        }
      ],
      "source": [
        "CLF = LogisticRegression(C=C, tol=TOL, class_weight=CLASS_WEIGHT)\n",
        "CLF"
      ]
    },
    {
      "cell_type": "code",
      "execution_count": 7,
      "metadata": {
        "id": "vW-PdJNmZLt3"
      },
      "outputs": [],
      "source": [
        "class Model():\n",
        "  def __init__(self, columns):\n",
        "    self.clf = CLF\n",
        "    self.subset_X_train = X_train[columns]\n",
        "    self.subset_X_test =  X_test[columns]\n",
        "\n",
        "  def fit(self):\n",
        "    self.clf.fit(self.subset_X_train, y_train)\n",
        "\n",
        "\n",
        "  def y_pred_train(self):\n",
        "    return self.clf.predict(self.subset_X_train)\n",
        "\n",
        "  def y_pred_test(self):\n",
        "    return self.clf.predict(self.subset_X_test)\n",
        "\n",
        "\n",
        "  def train_score(self):\n",
        "    return f1_score(y_train, self.y_pred_train())\n",
        "\n",
        "  def test_score(self):\n",
        "    return f1_score(y_test, self.y_pred_test())\n",
        "\n",
        "\n",
        "  def y_pred_train_prob(self):\n",
        "    return self.clf.predict_proba(self.subset_X_train)[:, 1]\n",
        "\n",
        "  def y_pred_test_prob(self):\n",
        "    return self.clf.predict_proba(self.subset_X_test)[:, 1]\n",
        "\n",
        "\n",
        "  def score(self):\n",
        "    return [accuracy_score(y_test, self.y_pred_test()), precision_score(y_test, self.y_pred_test()), recall_score(y_test, self.y_pred_test()), f1_score(y_test, self.y_pred_test()), roc_auc_score(y_test, self.y_pred_test())]"
      ]
    },
    {
      "cell_type": "markdown",
      "metadata": {
        "id": "vvmBIi83ZnRt"
      },
      "source": [
        "# Add-Del"
      ]
    },
    {
      "cell_type": "code",
      "execution_count": 8,
      "metadata": {
        "id": "1vB4HB4nZLq5"
      },
      "outputs": [],
      "source": [
        "class Add_Dell():\n",
        "  def __init__(self, delta, all_features, count_features, metric='f1', test_mode=False):\n",
        "    self.test_mode = test_mode\n",
        "    self.all_features = all_features.copy()\n",
        "    self.count_features = count_features\n",
        "    self.delta = delta\n",
        "    self.metric = metric\n",
        "\n",
        "    self.iteration = 0\n",
        "    self.ts_iteration = 0\n",
        "\n",
        "    self.stats = pd.DataFrame(columns=['type', 'iteration', 'complexity', 'best', 'accuracy', 'precision', 'recall', 'f1', 'roc_auc'])\n",
        "    self.stats.loc[0] = ['none', 0, 0, True, 0, 0, 0, 0, 0]\n",
        "    self.last = 0\n",
        "\n",
        "    self.best = {\n",
        "      'index': 0,\n",
        "      'iteration': 0,\n",
        "      'features': []\n",
        "    }\n",
        "    self.ts_best = {\n",
        "      'index': 0,\n",
        "      'ts_iteration': 0,\n",
        "      'features': []\n",
        "    }\n",
        "\n",
        "  def print_results(self):\n",
        "    print(\"=\"*5, \" RESULTS \", \"=\"*5)\n",
        "    print(f\"Complexity: {len(self.best['features'])}\")\n",
        "    print(f\"Test score: {self.stats[self.metric][self.best['index']]:.3f}\")\n",
        "    print(\"Features\")\n",
        "    feat_num = 0\n",
        "    for feat in self.best['features']:\n",
        "      feat_num += 1\n",
        "      print(f\"{feat_num}. {feat}\")\n",
        "\n",
        "\n",
        "  def add_stop(self):\n",
        "    if self.iteration - self.best['iteration'] >= self.delta:\n",
        "      return False\n",
        "    if len(self.all_features) == 0:\n",
        "      return False\n",
        "    return True\n",
        "\n",
        "  def add_new(self, cur_features):\n",
        "    best = -1\n",
        "    complexity = len(cur_features) + 1\n",
        "    for feat in self.all_features:\n",
        "      cur_features.append(feat)\n",
        "\n",
        "      mdl = Model(cur_features)\n",
        "      mdl.fit()\n",
        "      sc = mdl.score()\n",
        "\n",
        "      self.last += 1\n",
        "      self.stats.loc[self.last] = ['add', self.iteration, complexity, False, sc[0], sc[1], sc[2], sc[3], sc[4]]\n",
        "\n",
        "      if best == -1 or self.stats[self.metric][self.last] > self.stats[self.metric][best]:\n",
        "        best = self.last\n",
        "        ff = feat\n",
        "\n",
        "      cur_features.pop()\n",
        "\n",
        "    self.stats['best'][best] = True\n",
        "    return best, ff\n",
        "\n",
        "  def add_run(self):\n",
        "    best, nf = self.add_new(self.best['features'])\n",
        "    # best = self.stats.loc[self.stats['iteration'] == self.iteration].sort_values(by=self.metric, ascending=False)[0].index\n",
        "\n",
        "    self.best['features'].append(nf)\n",
        "    self.all_features.remove(nf)\n",
        "\n",
        "    if self.stats[self.metric][best] > self.stats[self.metric][self.best['index']]:\n",
        "      self.best['index'] = best\n",
        "      self.best['iteration'] = self.iteration\n",
        "\n",
        "    if self.test_mode:\n",
        "      print(f\"--iteration {self.iteration}--\")\n",
        "      print(f'add feature {nf}')\n",
        "      print(f'current best model index {self.best[\"index\"]}')\n",
        "      print(f'current best model metric {self.stats[self.metric][self.best[\"index\"]]:.3f}')\n",
        "\n",
        "\n",
        "  def del_stop(self):\n",
        "    if self.iteration - self.best['iteration'] >= self.delta:\n",
        "      return False\n",
        "    if len(self.best['features']) == 0:\n",
        "      return False\n",
        "    return True\n",
        "\n",
        "  def del_new(self, cur_features):\n",
        "    best = -1\n",
        "    complexity = len(cur_features) - 1\n",
        "    for feat in cur_features:\n",
        "      cur_features.remove(feat)\n",
        "\n",
        "      mdl = Model(cur_features)\n",
        "      mdl.fit()\n",
        "      sc = mdl.score()\n",
        "\n",
        "      self.last += 1\n",
        "      self.stats.loc[self.last] = ['del', self.iteration, complexity, False, sc[0], sc[1], sc[2], sc[3], sc[4]]\n",
        "\n",
        "      if best == -1 or self.stats[self.metric][self.last] > self.stats[self.metric][best]:\n",
        "        best = self.last\n",
        "        ff = feat\n",
        "\n",
        "      cur_features.append(feat)\n",
        "\n",
        "    self.stats['best'][best] = True\n",
        "    return best, ff\n",
        "\n",
        "  def del_run(self):\n",
        "    best, nf = self.del_new(self.best['features'])   # add all new models\n",
        "    # best = self.stats.loc[self.stats['iteration'] == self.iteration].sort_values(by=self.metric, ascending=False)[0].index\n",
        "\n",
        "    self.best['features'].remove(nf)\n",
        "    self.all_features.append(nf)\n",
        "\n",
        "    if self.stats[self.metric][best] > self.stats[self.metric][self.best['index']]:\n",
        "      self.best['index'] = best\n",
        "      self.best['iteration'] = self.iteration\n",
        "\n",
        "    if self.test_mode:\n",
        "      print(f\"--iteration {self.iteration}--\")\n",
        "      print(f'del feature {nf}')\n",
        "      print(f'current best model index {self.best[\"index\"]}')\n",
        "      print(f'current best model metric {self.stats[self.metric][self.best[\"index\"]]:.3f}')\n",
        "\n",
        "\n",
        "  def is_stop(self):\n",
        "    if self.ts_iteration - self.ts_best['ts_iteration'] >= self.delta:\n",
        "      return False\n",
        "    return True\n",
        "\n",
        "  def run(self):\n",
        "    while (self.is_stop()):\n",
        "      self.ts_iteration += 1\n",
        "\n",
        "      if self.test_mode:\n",
        "        print(f\"\\n-----Algorithm iteration {self.ts_iteration}-----\")\n",
        "        print(\"---Add---\")\n",
        "      flag = len(self.all_features) > 0\n",
        "      while (self.add_stop() or flag):\n",
        "        flag = False\n",
        "        self.iteration += 1\n",
        "        self.add_run()\n",
        "\n",
        "      if self.test_mode:\n",
        "        print(\"---Del---\")\n",
        "      flag = len(self.best['features']) > 0\n",
        "      while (self.del_stop() or flag):\n",
        "        flag = False\n",
        "        self.iteration += 1\n",
        "        self.del_run()\n",
        "\n",
        "      if self.best['index'] != self.ts_best['index']:\n",
        "        self.ts_best['index'] = self.best['index']\n",
        "        self.ts_best['features'] = self.best['features']\n",
        "        self.ts_best['ts_iteration'] = self.ts_iteration\n",
        "\n",
        "      if self.test_mode:\n",
        "        print(\"---ts_iteration result---\")\n",
        "        print(f'ts_best model index {self.ts_best[\"index\"]}')\n",
        "        print(f'ts_best model metric {self.stats[self.metric][self.ts_best[\"index\"]]:.3f}')\n",
        "        print(f'ts_best features -', end=\" \")\n",
        "        for a in self.ts_best['features']:\n",
        "          print(a, end=\" \")\n",
        "\n",
        "    rs.stats = rs.stats.loc[rs.stats['type']!='none']\n"
      ]
    },
    {
      "cell_type": "markdown",
      "metadata": {
        "id": "_Ns1ytZlZ6L2"
      },
      "source": [
        "# Graphs"
      ]
    },
    {
      "cell_type": "code",
      "execution_count": 9,
      "metadata": {
        "id": "6_2xuVbrZ9tn"
      },
      "outputs": [],
      "source": [
        "def my_points():\n",
        "  for i in range(1, rs.iteration):\n",
        "    res = rs.stats.loc[rs.stats['iteration']==i].loc[rs.stats['best']]\n",
        "    line_compl.append(res['complexity'].values[0])\n",
        "    line_metr.append(res[rs.metric].values[0])"
      ]
    },
    {
      "cell_type": "code",
      "execution_count": 10,
      "metadata": {
        "id": "2h9kl-HEZ9kj"
      },
      "outputs": [],
      "source": [
        "def line():\n",
        "  dots = go.Scatter(x=rs.stats['complexity'], y=rs.stats[rs.metric], mode='markers',\n",
        "                  marker=dict(color='grey', size=10, opacity=0.8), name='Metrics')\n",
        "\n",
        "  max_line = go.Scatter(x=line_compl, y=line_metr, mode='lines',\n",
        "                        line=dict(color=\"crimson\", width=2), name='Maximal line')\n",
        "\n",
        "  layout = go.Layout(\n",
        "      title='Dependence of the metric value on the number of features',\n",
        "      xaxis=dict(title='Featues', range=[ -0.5, max(line_compl) + 0.5 ], dtick=1),\n",
        "      yaxis=dict(title='Metrics'),\n",
        "      showlegend=True,\n",
        "      width=GRAPH_WIDTH,\n",
        "      height=GRAPH_HEIGHT\n",
        "  )\n",
        "\n",
        "  fig = go.Figure(data=[dots, max_line], layout=layout)\n",
        "\n",
        "  fig.show()\n"
      ]
    },
    {
      "cell_type": "code",
      "execution_count": 12,
      "metadata": {
        "id": "A1-wWdL1Z9aW"
      },
      "outputs": [],
      "source": [
        "def roc():\n",
        "  mdl = Model(rs.best['features'])\n",
        "  mdl.fit()\n",
        "  y_pred_test_proba = mdl.y_pred_test_prob()\n",
        "  y_pred_train_proba = mdl.y_pred_train_prob()\n",
        "\n",
        "  fpr, tpr, thresholds = roc_curve(y_test, y_pred_test_proba)\n",
        "  roc_auc = auc(fpr, tpr)\n",
        "\n",
        "  roc_trace_test = go.Scatter(x=fpr, y=tpr, mode='lines',\n",
        "                              name='ROC curve test (area = %0.2f)' % roc_auc)\n",
        "\n",
        "  fpr, tpr, thresholds = roc_curve(y_train, y_pred_train_proba)\n",
        "  roc_auc = auc(fpr, tpr)\n",
        "  roc_trace_train = go.Scatter(x=fpr, y=tpr, mode='lines',\n",
        "                              name='ROC curve train (area = %0.2f)' % roc_auc)\n",
        "\n",
        "  random_trace = go.Scatter(x=[0, 1], y=[0, 1], mode='lines',\n",
        "                            name='Random', line=dict(dash='dash'))\n",
        "\n",
        "  layout = go.Layout(\n",
        "      title='Random searching with adaptation',\n",
        "      xaxis=dict(title='False Positive Rate'),\n",
        "      yaxis=dict(title='True Positive Rate'),\n",
        "      showlegend=True,\n",
        "      width=GRAPH_WIDTH,\n",
        "      height=GRAPH_HEIGHT\n",
        "  )\n",
        "\n",
        "  fig = go.Figure(data=[roc_trace_test, roc_trace_train, random_trace],\n",
        "                  layout=layout)\n",
        "\n",
        "  fig.show()"
      ]
    },
    {
      "cell_type": "markdown",
      "metadata": {
        "id": "BN3rpeFOZtRn"
      },
      "source": [
        "# Test"
      ]
    },
    {
      "cell_type": "code",
      "execution_count": 13,
      "metadata": {
        "colab": {
          "base_uri": "https://localhost:8080/"
        },
        "id": "b_Ode3U8ZLn0",
        "outputId": "ae933595-8eab-4a6f-bf43-1ca0e00ee9e8"
      },
      "outputs": [
        {
          "name": "stdout",
          "output_type": "stream",
          "text": [
            "\n",
            "-----Algorithm iteration 1-----\n",
            "---Add---\n",
            "--iteration 1--\n",
            "add feature Online boarding\n",
            "current best model index 7\n",
            "current best model metric 0.782\n",
            "--iteration 2--\n",
            "add feature Type of Travel\n",
            "current best model index 48\n",
            "current best model metric 0.817\n",
            "--iteration 3--\n",
            "add feature Inflight wifi service\n",
            "current best model index 74\n",
            "current best model metric 0.841\n",
            "--iteration 4--\n",
            "add feature Class_Eco Plus\n",
            "current best model index 110\n",
            "current best model metric 0.842\n",
            "--iteration 5--\n",
            "add feature Departure Delay in Minutes_0-30\n",
            "current best model index 110\n",
            "current best model metric 0.842\n",
            "--iteration 6--\n",
            "add feature Age_65-100\n",
            "current best model index 110\n",
            "current best model metric 0.842\n",
            "---Del---\n",
            "--iteration 7--\n",
            "del feature Departure Delay in Minutes_0-30\n",
            "current best model index 110\n",
            "current best model metric 0.842\n",
            "---ts_iteration result---\n",
            "ts_best model index 110\n",
            "ts_best model metric 0.842\n",
            "ts_best features - Type of Travel Class_Eco Plus Age_65-100 Inflight wifi service Online boarding \n",
            "-----Algorithm iteration 2-----\n",
            "---Add---\n",
            "--iteration 8--\n",
            "add feature Departure Delay in Minutes_0-30\n",
            "current best model index 110\n",
            "current best model metric 0.842\n",
            "---Del---\n",
            "--iteration 9--\n",
            "del feature Age_65-100\n",
            "current best model index 110\n",
            "current best model metric 0.842\n",
            "---ts_iteration result---\n",
            "ts_best model index 110\n",
            "ts_best model metric 0.842\n",
            "ts_best features - Class_Eco Plus Inflight wifi service Departure Delay in Minutes_0-30 Type of Travel Online boarding \n",
            "-----Algorithm iteration 3-----\n",
            "---Add---\n",
            "--iteration 10--\n",
            "add feature Age_65-100\n",
            "current best model index 110\n",
            "current best model metric 0.842\n",
            "---Del---\n",
            "--iteration 11--\n",
            "del feature Departure Delay in Minutes_0-30\n",
            "current best model index 110\n",
            "current best model metric 0.842\n",
            "---ts_iteration result---\n",
            "ts_best model index 110\n",
            "ts_best model metric 0.842\n",
            "ts_best features - Inflight wifi service Type of Travel Age_65-100 Class_Eco Plus Online boarding "
          ]
        }
      ],
      "source": [
        "rs = Add_Dell(DELTA, ALL_FEATURES, COUNT_FEATURES, 'f1', True)\n",
        "# rs = Add_Dell(DELTA, ALL_FEATURES, COUNT_FEATURES)\n",
        "rs.run()"
      ]
    },
    {
      "cell_type": "code",
      "execution_count": 14,
      "metadata": {
        "colab": {
          "base_uri": "https://localhost:8080/"
        },
        "id": "B_ZRd8e3Y4fb",
        "outputId": "abe59675-904e-428c-d69b-c17904331d48"
      },
      "outputs": [
        {
          "name": "stdout",
          "output_type": "stream",
          "text": [
            "=====  RESULTS  =====\n",
            "Complexity: 5\n",
            "Test score: 0.842\n",
            "Features\n",
            "1. Inflight wifi service\n",
            "2. Type of Travel\n",
            "3. Age_65-100\n",
            "4. Class_Eco Plus\n",
            "5. Online boarding\n"
          ]
        }
      ],
      "source": [
        "rs.print_results()"
      ]
    },
    {
      "cell_type": "code",
      "execution_count": 15,
      "metadata": {
        "colab": {
          "base_uri": "https://localhost:8080/"
        },
        "id": "hkBrjf9QglxT",
        "outputId": "55f97094-a9d2-4c88-89ff-676c03ec0ebe"
      },
      "outputs": [
        {
          "name": "stdout",
          "output_type": "stream",
          "text": [
            "[0.7820171771680475, 0.8170135895225191, 0.8405785325424555, 0.8416083346898909, 0.8416083346898909, 0.8415906127770535, 0.8415906127770535, 0.8415906127770535, 0.8416083346898909, 0.8415906127770535]\n",
            "[1, 2, 3, 4, 5, 6, 5, 6, 5, 6]\n"
          ]
        }
      ],
      "source": [
        "# Расчеты для построения линии максимума\n",
        "line_compl = []\n",
        "line_metr = []\n",
        "my_points()\n",
        "print(line_metr)\n",
        "print(line_compl)"
      ]
    },
    {
      "cell_type": "code",
      "execution_count": 16,
      "metadata": {
        "colab": {
          "base_uri": "https://localhost:8080/",
          "height": 517
        },
        "id": "IMzhZ26MzsL2",
        "outputId": "2f1c4e50-eaa0-442a-b5d5-6e3ed1a959b7"
      },
      "outputs": [
        {
          "data": {
            "application/vnd.plotly.v1+json": {
              "config": {
                "plotlyServerURL": "https://plot.ly"
              },
              "data": [
                {
                  "marker": {
                    "color": "grey",
                    "opacity": 0.8,
                    "size": 10
                  },
                  "mode": "markers",
                  "name": "Metrics",
                  "type": "scatter",
                  "x": [
                    1,
                    1,
                    1,
                    1,
                    1,
                    1,
                    1,
                    1,
                    1,
                    1,
                    1,
                    1,
                    1,
                    1,
                    1,
                    1,
                    1,
                    1,
                    1,
                    1,
                    1,
                    1,
                    1,
                    1,
                    1,
                    1,
                    1,
                    1,
                    1,
                    1,
                    1,
                    1,
                    2,
                    2,
                    2,
                    2,
                    2,
                    2,
                    2,
                    2,
                    2,
                    2,
                    2,
                    2,
                    2,
                    2,
                    2,
                    2,
                    2,
                    2,
                    2,
                    2,
                    2,
                    2,
                    2,
                    2,
                    2,
                    2,
                    2,
                    2,
                    2,
                    2,
                    2,
                    3,
                    3,
                    3,
                    3,
                    3,
                    3,
                    3,
                    3,
                    3,
                    3,
                    3,
                    3,
                    3,
                    3,
                    3,
                    3,
                    3,
                    3,
                    3,
                    3,
                    3,
                    3,
                    3,
                    3,
                    3,
                    3,
                    3,
                    3,
                    3,
                    3,
                    4,
                    4,
                    4,
                    4,
                    4,
                    4,
                    4,
                    4,
                    4,
                    4,
                    4,
                    4,
                    4,
                    4,
                    4,
                    4,
                    4,
                    4,
                    4,
                    4,
                    4,
                    4,
                    4,
                    4,
                    4,
                    4,
                    4,
                    4,
                    4,
                    5,
                    5,
                    5,
                    5,
                    5,
                    5,
                    5,
                    5,
                    5,
                    5,
                    5,
                    5,
                    5,
                    5,
                    5,
                    5,
                    5,
                    5,
                    5,
                    5,
                    5,
                    5,
                    5,
                    5,
                    5,
                    5,
                    5,
                    5,
                    6,
                    6,
                    6,
                    6,
                    6,
                    6,
                    6,
                    6,
                    6,
                    6,
                    6,
                    6,
                    6,
                    6,
                    6,
                    6,
                    6,
                    6,
                    6,
                    6,
                    6,
                    6,
                    6,
                    6,
                    6,
                    6,
                    6,
                    5,
                    5,
                    5,
                    5,
                    5,
                    5,
                    6,
                    6,
                    6,
                    6,
                    6,
                    6,
                    6,
                    6,
                    6,
                    6,
                    6,
                    6,
                    6,
                    6,
                    6,
                    6,
                    6,
                    6,
                    6,
                    6,
                    6,
                    6,
                    6,
                    6,
                    6,
                    6,
                    6,
                    5,
                    5,
                    5,
                    5,
                    5,
                    5,
                    6,
                    6,
                    6,
                    6,
                    6,
                    6,
                    6,
                    6,
                    6,
                    6,
                    6,
                    6,
                    6,
                    6,
                    6,
                    6,
                    6,
                    6,
                    6,
                    6,
                    6,
                    6,
                    6,
                    6,
                    6,
                    6,
                    6,
                    5,
                    5,
                    5,
                    5,
                    5,
                    5
                  ],
                  "y": [
                    0.6412741443578448,
                    0.6048096506344979,
                    0.5492445217941619,
                    0.6669664268585133,
                    0.5079222720478326,
                    0.6591595510645439,
                    0.7820171771680475,
                    0.7125577954503421,
                    0.6433794768885411,
                    0.6935391652372784,
                    0.5575321419907819,
                    0.5992702296630178,
                    0.5627546140493819,
                    0.4848565621563989,
                    0.46956858193074097,
                    0.633905664101046,
                    0.7176660648104153,
                    0.7306095526326,
                    0.7110458242270072,
                    0.6103028542761333,
                    0.6118184377639441,
                    0.6220464784623861,
                    0.6107938467870556,
                    0.5169965033704624,
                    0.5411066944286705,
                    0.5911576142765951,
                    0.5331063459866705,
                    0.5551545086119554,
                    0.5913028990336555,
                    0.5927573460309505,
                    0.5181762639376813,
                    0.46253172938969217,
                    0.771767606719063,
                    0.7859900932173642,
                    0.7844983133286263,
                    0.7756783521489403,
                    0.7820171771680475,
                    0.7857846420550806,
                    0.7866824271079591,
                    0.7752344926081753,
                    0.7806667981850464,
                    0.7820171771680475,
                    0.7630240170367157,
                    0.7820171771680475,
                    0.7820171771680475,
                    0.7820171771680475,
                    0.7820171771680475,
                    0.8170135895225191,
                    0.7767491755731256,
                    0.7633785638054582,
                    0.7820171771680475,
                    0.7820171771680475,
                    0.7820171771680475,
                    0.7820171771680475,
                    0.7820171771680475,
                    0.7820171771680475,
                    0.7820171771680475,
                    0.7820171771680475,
                    0.7820171771680475,
                    0.7820171771680475,
                    0.7820171771680475,
                    0.7820171771680475,
                    0.7745910657962296,
                    0.810348211832136,
                    0.8018938646675873,
                    0.8041123842410925,
                    0.8179955877718247,
                    0.8170135895225191,
                    0.8153027016367581,
                    0.8172633253778838,
                    0.8092734975678645,
                    0.8008639308855291,
                    0.7990908734668286,
                    0.8405785325424555,
                    0.8120548827103368,
                    0.8170135895225191,
                    0.8170135895225191,
                    0.7948976166498826,
                    0.7956050571944612,
                    0.79702321277088,
                    0.8170135895225191,
                    0.8170135895225191,
                    0.7869655302316821,
                    0.8170135895225191,
                    0.8170135895225191,
                    0.8170135895225191,
                    0.8170135895225191,
                    0.7920085080522636,
                    0.8170135895225191,
                    0.8170135895225191,
                    0.8170135895225191,
                    0.8170135895225191,
                    0.8116483254538955,
                    0.816253432562582,
                    0.8179708753400544,
                    0.8159009188973232,
                    0.8218847915160279,
                    0.8285668891007307,
                    0.8294238766199685,
                    0.8352055401215928,
                    0.8142345924453281,
                    0.8205914739657071,
                    0.8168394093401098,
                    0.8256001288867407,
                    0.8235108107039805,
                    0.8382658253612865,
                    0.8205386163132642,
                    0.8272855796418472,
                    0.817790196763302,
                    0.8416083346898909,
                    0.80231794475565,
                    0.8043825788591259,
                    0.8405125076266017,
                    0.8079526553978262,
                    0.8398715394934754,
                    0.8365997060264575,
                    0.7973706998346848,
                    0.8401072996260771,
                    0.8366338655016128,
                    0.8004943230091912,
                    0.8105709726384618,
                    0.8133804246336216,
                    0.8175479140933178,
                    0.8187542614206073,
                    0.8163216273575462,
                    0.8227817552891964,
                    0.8296473401075911,
                    0.8298087420646153,
                    0.8354093602612166,
                    0.8208092485549133,
                    0.8215145416518685,
                    0.8177272909083637,
                    0.8270294271989667,
                    0.8258320126782884,
                    0.8122707048630085,
                    0.8251617429261829,
                    0.8273505616212394,
                    0.8257891836574038,
                    0.8059689892356118,
                    0.8076335279595596,
                    0.8415906127770535,
                    0.8113596576541529,
                    0.8416083346898909,
                    0.837601243557228,
                    0.8002056473938147,
                    0.8045641399976948,
                    0.8376355082839025,
                    0.8034771809996896,
                    0.8134704893026167,
                    0.8142060941377487,
                    0.8203702232462063,
                    0.8185968284478616,
                    0.8232307204062203,
                    0.8245649129825965,
                    0.8296473401075911,
                    0.8298087420646153,
                    0.8350008068420204,
                    0.8209925479625813,
                    0.8215145416518685,
                    0.8179670923575802,
                    0.8264342774146697,
                    0.8244468194592882,
                    0.8206121964723563,
                    0.8251617429261829,
                    0.8266834388144189,
                    0.8244520252519312,
                    0.8059689892356118,
                    0.8073315951278359,
                    0.8415906127770535,
                    0.8112143718163082,
                    0.8410515178644095,
                    0.8060334668866368,
                    0.8405466970387243,
                    0.8372587504088975,
                    0.8016416928021063,
                    0.8134334193447496,
                    0.816132569757524,
                    0.6483553747032892,
                    0.8171998850055443,
                    0.8415906127770535,
                    0.6483553747032892,
                    0.8415906127770535,
                    0.8415906127770535,
                    0.8216340621403913,
                    0.8188591571863484,
                    0.824747973907887,
                    0.8250669437672355,
                    0.8302488832163369,
                    0.8303795419600226,
                    0.8357678960535873,
                    0.8211085560225201,
                    0.8224306462463888,
                    0.8187682814440839,
                    0.826968106580541,
                    0.8250673427349073,
                    0.8159849847501369,
                    0.8270953107278344,
                    0.8277651128055971,
                    0.8243179680150517,
                    0.8073716200420791,
                    0.8078582071994354,
                    0.8125949885039554,
                    0.8412045148934437,
                    0.8146817649355721,
                    0.8059828071392776,
                    0.7936410883521859,
                    0.8022029165373875,
                    0.8152186703275153,
                    0.8177159590043924,
                    0.8415906127770535,
                    0.764978785836076,
                    0.8416083346898909,
                    0.6483553747032892,
                    0.764978785836076,
                    0.6483553747032892,
                    0.6483553747032892,
                    0.8203702232462063,
                    0.8185968284478616,
                    0.8232307204062203,
                    0.8245649129825965,
                    0.8296473401075911,
                    0.8298087420646153,
                    0.8350008068420204,
                    0.8209925479625813,
                    0.8215145416518685,
                    0.8179670923575802,
                    0.8264342774146697,
                    0.8244468194592882,
                    0.8206121964723563,
                    0.8251617429261829,
                    0.8266834388144189,
                    0.8244520252519312,
                    0.8059689892356118,
                    0.8073315951278359,
                    0.8112143718163082,
                    0.8410515178644095,
                    0.8060334668866368,
                    0.8405466970387243,
                    0.8372587504088975,
                    0.8016416928021063,
                    0.8134334193447496,
                    0.816132569757524,
                    0.8415906127770535,
                    0.8400227957339411,
                    0.8415906127770535,
                    0.6483553747032892,
                    0.8400227957339411,
                    0.6483553747032892,
                    0.6483553747032892
                  ]
                },
                {
                  "line": {
                    "color": "crimson",
                    "width": 2
                  },
                  "mode": "lines",
                  "name": "Maximal line",
                  "type": "scatter",
                  "x": [
                    1,
                    2,
                    3,
                    4,
                    5,
                    6,
                    5,
                    6,
                    5,
                    6
                  ],
                  "y": [
                    0.7820171771680475,
                    0.8170135895225191,
                    0.8405785325424555,
                    0.8416083346898909,
                    0.8416083346898909,
                    0.8415906127770535,
                    0.8415906127770535,
                    0.8415906127770535,
                    0.8416083346898909,
                    0.8415906127770535
                  ]
                }
              ],
              "layout": {
                "height": 500,
                "showlegend": true,
                "template": {
                  "data": {
                    "bar": [
                      {
                        "error_x": {
                          "color": "#2a3f5f"
                        },
                        "error_y": {
                          "color": "#2a3f5f"
                        },
                        "marker": {
                          "line": {
                            "color": "#E5ECF6",
                            "width": 0.5
                          },
                          "pattern": {
                            "fillmode": "overlay",
                            "size": 10,
                            "solidity": 0.2
                          }
                        },
                        "type": "bar"
                      }
                    ],
                    "barpolar": [
                      {
                        "marker": {
                          "line": {
                            "color": "#E5ECF6",
                            "width": 0.5
                          },
                          "pattern": {
                            "fillmode": "overlay",
                            "size": 10,
                            "solidity": 0.2
                          }
                        },
                        "type": "barpolar"
                      }
                    ],
                    "carpet": [
                      {
                        "aaxis": {
                          "endlinecolor": "#2a3f5f",
                          "gridcolor": "white",
                          "linecolor": "white",
                          "minorgridcolor": "white",
                          "startlinecolor": "#2a3f5f"
                        },
                        "baxis": {
                          "endlinecolor": "#2a3f5f",
                          "gridcolor": "white",
                          "linecolor": "white",
                          "minorgridcolor": "white",
                          "startlinecolor": "#2a3f5f"
                        },
                        "type": "carpet"
                      }
                    ],
                    "choropleth": [
                      {
                        "colorbar": {
                          "outlinewidth": 0,
                          "ticks": ""
                        },
                        "type": "choropleth"
                      }
                    ],
                    "contour": [
                      {
                        "colorbar": {
                          "outlinewidth": 0,
                          "ticks": ""
                        },
                        "colorscale": [
                          [
                            0,
                            "#0d0887"
                          ],
                          [
                            0.1111111111111111,
                            "#46039f"
                          ],
                          [
                            0.2222222222222222,
                            "#7201a8"
                          ],
                          [
                            0.3333333333333333,
                            "#9c179e"
                          ],
                          [
                            0.4444444444444444,
                            "#bd3786"
                          ],
                          [
                            0.5555555555555556,
                            "#d8576b"
                          ],
                          [
                            0.6666666666666666,
                            "#ed7953"
                          ],
                          [
                            0.7777777777777778,
                            "#fb9f3a"
                          ],
                          [
                            0.8888888888888888,
                            "#fdca26"
                          ],
                          [
                            1,
                            "#f0f921"
                          ]
                        ],
                        "type": "contour"
                      }
                    ],
                    "contourcarpet": [
                      {
                        "colorbar": {
                          "outlinewidth": 0,
                          "ticks": ""
                        },
                        "type": "contourcarpet"
                      }
                    ],
                    "heatmap": [
                      {
                        "colorbar": {
                          "outlinewidth": 0,
                          "ticks": ""
                        },
                        "colorscale": [
                          [
                            0,
                            "#0d0887"
                          ],
                          [
                            0.1111111111111111,
                            "#46039f"
                          ],
                          [
                            0.2222222222222222,
                            "#7201a8"
                          ],
                          [
                            0.3333333333333333,
                            "#9c179e"
                          ],
                          [
                            0.4444444444444444,
                            "#bd3786"
                          ],
                          [
                            0.5555555555555556,
                            "#d8576b"
                          ],
                          [
                            0.6666666666666666,
                            "#ed7953"
                          ],
                          [
                            0.7777777777777778,
                            "#fb9f3a"
                          ],
                          [
                            0.8888888888888888,
                            "#fdca26"
                          ],
                          [
                            1,
                            "#f0f921"
                          ]
                        ],
                        "type": "heatmap"
                      }
                    ],
                    "heatmapgl": [
                      {
                        "colorbar": {
                          "outlinewidth": 0,
                          "ticks": ""
                        },
                        "colorscale": [
                          [
                            0,
                            "#0d0887"
                          ],
                          [
                            0.1111111111111111,
                            "#46039f"
                          ],
                          [
                            0.2222222222222222,
                            "#7201a8"
                          ],
                          [
                            0.3333333333333333,
                            "#9c179e"
                          ],
                          [
                            0.4444444444444444,
                            "#bd3786"
                          ],
                          [
                            0.5555555555555556,
                            "#d8576b"
                          ],
                          [
                            0.6666666666666666,
                            "#ed7953"
                          ],
                          [
                            0.7777777777777778,
                            "#fb9f3a"
                          ],
                          [
                            0.8888888888888888,
                            "#fdca26"
                          ],
                          [
                            1,
                            "#f0f921"
                          ]
                        ],
                        "type": "heatmapgl"
                      }
                    ],
                    "histogram": [
                      {
                        "marker": {
                          "pattern": {
                            "fillmode": "overlay",
                            "size": 10,
                            "solidity": 0.2
                          }
                        },
                        "type": "histogram"
                      }
                    ],
                    "histogram2d": [
                      {
                        "colorbar": {
                          "outlinewidth": 0,
                          "ticks": ""
                        },
                        "colorscale": [
                          [
                            0,
                            "#0d0887"
                          ],
                          [
                            0.1111111111111111,
                            "#46039f"
                          ],
                          [
                            0.2222222222222222,
                            "#7201a8"
                          ],
                          [
                            0.3333333333333333,
                            "#9c179e"
                          ],
                          [
                            0.4444444444444444,
                            "#bd3786"
                          ],
                          [
                            0.5555555555555556,
                            "#d8576b"
                          ],
                          [
                            0.6666666666666666,
                            "#ed7953"
                          ],
                          [
                            0.7777777777777778,
                            "#fb9f3a"
                          ],
                          [
                            0.8888888888888888,
                            "#fdca26"
                          ],
                          [
                            1,
                            "#f0f921"
                          ]
                        ],
                        "type": "histogram2d"
                      }
                    ],
                    "histogram2dcontour": [
                      {
                        "colorbar": {
                          "outlinewidth": 0,
                          "ticks": ""
                        },
                        "colorscale": [
                          [
                            0,
                            "#0d0887"
                          ],
                          [
                            0.1111111111111111,
                            "#46039f"
                          ],
                          [
                            0.2222222222222222,
                            "#7201a8"
                          ],
                          [
                            0.3333333333333333,
                            "#9c179e"
                          ],
                          [
                            0.4444444444444444,
                            "#bd3786"
                          ],
                          [
                            0.5555555555555556,
                            "#d8576b"
                          ],
                          [
                            0.6666666666666666,
                            "#ed7953"
                          ],
                          [
                            0.7777777777777778,
                            "#fb9f3a"
                          ],
                          [
                            0.8888888888888888,
                            "#fdca26"
                          ],
                          [
                            1,
                            "#f0f921"
                          ]
                        ],
                        "type": "histogram2dcontour"
                      }
                    ],
                    "mesh3d": [
                      {
                        "colorbar": {
                          "outlinewidth": 0,
                          "ticks": ""
                        },
                        "type": "mesh3d"
                      }
                    ],
                    "parcoords": [
                      {
                        "line": {
                          "colorbar": {
                            "outlinewidth": 0,
                            "ticks": ""
                          }
                        },
                        "type": "parcoords"
                      }
                    ],
                    "pie": [
                      {
                        "automargin": true,
                        "type": "pie"
                      }
                    ],
                    "scatter": [
                      {
                        "fillpattern": {
                          "fillmode": "overlay",
                          "size": 10,
                          "solidity": 0.2
                        },
                        "type": "scatter"
                      }
                    ],
                    "scatter3d": [
                      {
                        "line": {
                          "colorbar": {
                            "outlinewidth": 0,
                            "ticks": ""
                          }
                        },
                        "marker": {
                          "colorbar": {
                            "outlinewidth": 0,
                            "ticks": ""
                          }
                        },
                        "type": "scatter3d"
                      }
                    ],
                    "scattercarpet": [
                      {
                        "marker": {
                          "colorbar": {
                            "outlinewidth": 0,
                            "ticks": ""
                          }
                        },
                        "type": "scattercarpet"
                      }
                    ],
                    "scattergeo": [
                      {
                        "marker": {
                          "colorbar": {
                            "outlinewidth": 0,
                            "ticks": ""
                          }
                        },
                        "type": "scattergeo"
                      }
                    ],
                    "scattergl": [
                      {
                        "marker": {
                          "colorbar": {
                            "outlinewidth": 0,
                            "ticks": ""
                          }
                        },
                        "type": "scattergl"
                      }
                    ],
                    "scattermapbox": [
                      {
                        "marker": {
                          "colorbar": {
                            "outlinewidth": 0,
                            "ticks": ""
                          }
                        },
                        "type": "scattermapbox"
                      }
                    ],
                    "scatterpolar": [
                      {
                        "marker": {
                          "colorbar": {
                            "outlinewidth": 0,
                            "ticks": ""
                          }
                        },
                        "type": "scatterpolar"
                      }
                    ],
                    "scatterpolargl": [
                      {
                        "marker": {
                          "colorbar": {
                            "outlinewidth": 0,
                            "ticks": ""
                          }
                        },
                        "type": "scatterpolargl"
                      }
                    ],
                    "scatterternary": [
                      {
                        "marker": {
                          "colorbar": {
                            "outlinewidth": 0,
                            "ticks": ""
                          }
                        },
                        "type": "scatterternary"
                      }
                    ],
                    "surface": [
                      {
                        "colorbar": {
                          "outlinewidth": 0,
                          "ticks": ""
                        },
                        "colorscale": [
                          [
                            0,
                            "#0d0887"
                          ],
                          [
                            0.1111111111111111,
                            "#46039f"
                          ],
                          [
                            0.2222222222222222,
                            "#7201a8"
                          ],
                          [
                            0.3333333333333333,
                            "#9c179e"
                          ],
                          [
                            0.4444444444444444,
                            "#bd3786"
                          ],
                          [
                            0.5555555555555556,
                            "#d8576b"
                          ],
                          [
                            0.6666666666666666,
                            "#ed7953"
                          ],
                          [
                            0.7777777777777778,
                            "#fb9f3a"
                          ],
                          [
                            0.8888888888888888,
                            "#fdca26"
                          ],
                          [
                            1,
                            "#f0f921"
                          ]
                        ],
                        "type": "surface"
                      }
                    ],
                    "table": [
                      {
                        "cells": {
                          "fill": {
                            "color": "#EBF0F8"
                          },
                          "line": {
                            "color": "white"
                          }
                        },
                        "header": {
                          "fill": {
                            "color": "#C8D4E3"
                          },
                          "line": {
                            "color": "white"
                          }
                        },
                        "type": "table"
                      }
                    ]
                  },
                  "layout": {
                    "annotationdefaults": {
                      "arrowcolor": "#2a3f5f",
                      "arrowhead": 0,
                      "arrowwidth": 1
                    },
                    "autotypenumbers": "strict",
                    "coloraxis": {
                      "colorbar": {
                        "outlinewidth": 0,
                        "ticks": ""
                      }
                    },
                    "colorscale": {
                      "diverging": [
                        [
                          0,
                          "#8e0152"
                        ],
                        [
                          0.1,
                          "#c51b7d"
                        ],
                        [
                          0.2,
                          "#de77ae"
                        ],
                        [
                          0.3,
                          "#f1b6da"
                        ],
                        [
                          0.4,
                          "#fde0ef"
                        ],
                        [
                          0.5,
                          "#f7f7f7"
                        ],
                        [
                          0.6,
                          "#e6f5d0"
                        ],
                        [
                          0.7,
                          "#b8e186"
                        ],
                        [
                          0.8,
                          "#7fbc41"
                        ],
                        [
                          0.9,
                          "#4d9221"
                        ],
                        [
                          1,
                          "#276419"
                        ]
                      ],
                      "sequential": [
                        [
                          0,
                          "#0d0887"
                        ],
                        [
                          0.1111111111111111,
                          "#46039f"
                        ],
                        [
                          0.2222222222222222,
                          "#7201a8"
                        ],
                        [
                          0.3333333333333333,
                          "#9c179e"
                        ],
                        [
                          0.4444444444444444,
                          "#bd3786"
                        ],
                        [
                          0.5555555555555556,
                          "#d8576b"
                        ],
                        [
                          0.6666666666666666,
                          "#ed7953"
                        ],
                        [
                          0.7777777777777778,
                          "#fb9f3a"
                        ],
                        [
                          0.8888888888888888,
                          "#fdca26"
                        ],
                        [
                          1,
                          "#f0f921"
                        ]
                      ],
                      "sequentialminus": [
                        [
                          0,
                          "#0d0887"
                        ],
                        [
                          0.1111111111111111,
                          "#46039f"
                        ],
                        [
                          0.2222222222222222,
                          "#7201a8"
                        ],
                        [
                          0.3333333333333333,
                          "#9c179e"
                        ],
                        [
                          0.4444444444444444,
                          "#bd3786"
                        ],
                        [
                          0.5555555555555556,
                          "#d8576b"
                        ],
                        [
                          0.6666666666666666,
                          "#ed7953"
                        ],
                        [
                          0.7777777777777778,
                          "#fb9f3a"
                        ],
                        [
                          0.8888888888888888,
                          "#fdca26"
                        ],
                        [
                          1,
                          "#f0f921"
                        ]
                      ]
                    },
                    "colorway": [
                      "#636efa",
                      "#EF553B",
                      "#00cc96",
                      "#ab63fa",
                      "#FFA15A",
                      "#19d3f3",
                      "#FF6692",
                      "#B6E880",
                      "#FF97FF",
                      "#FECB52"
                    ],
                    "font": {
                      "color": "#2a3f5f"
                    },
                    "geo": {
                      "bgcolor": "white",
                      "lakecolor": "white",
                      "landcolor": "#E5ECF6",
                      "showlakes": true,
                      "showland": true,
                      "subunitcolor": "white"
                    },
                    "hoverlabel": {
                      "align": "left"
                    },
                    "hovermode": "closest",
                    "mapbox": {
                      "style": "light"
                    },
                    "paper_bgcolor": "white",
                    "plot_bgcolor": "#E5ECF6",
                    "polar": {
                      "angularaxis": {
                        "gridcolor": "white",
                        "linecolor": "white",
                        "ticks": ""
                      },
                      "bgcolor": "#E5ECF6",
                      "radialaxis": {
                        "gridcolor": "white",
                        "linecolor": "white",
                        "ticks": ""
                      }
                    },
                    "scene": {
                      "xaxis": {
                        "backgroundcolor": "#E5ECF6",
                        "gridcolor": "white",
                        "gridwidth": 2,
                        "linecolor": "white",
                        "showbackground": true,
                        "ticks": "",
                        "zerolinecolor": "white"
                      },
                      "yaxis": {
                        "backgroundcolor": "#E5ECF6",
                        "gridcolor": "white",
                        "gridwidth": 2,
                        "linecolor": "white",
                        "showbackground": true,
                        "ticks": "",
                        "zerolinecolor": "white"
                      },
                      "zaxis": {
                        "backgroundcolor": "#E5ECF6",
                        "gridcolor": "white",
                        "gridwidth": 2,
                        "linecolor": "white",
                        "showbackground": true,
                        "ticks": "",
                        "zerolinecolor": "white"
                      }
                    },
                    "shapedefaults": {
                      "line": {
                        "color": "#2a3f5f"
                      }
                    },
                    "ternary": {
                      "aaxis": {
                        "gridcolor": "white",
                        "linecolor": "white",
                        "ticks": ""
                      },
                      "baxis": {
                        "gridcolor": "white",
                        "linecolor": "white",
                        "ticks": ""
                      },
                      "bgcolor": "#E5ECF6",
                      "caxis": {
                        "gridcolor": "white",
                        "linecolor": "white",
                        "ticks": ""
                      }
                    },
                    "title": {
                      "x": 0.05
                    },
                    "xaxis": {
                      "automargin": true,
                      "gridcolor": "white",
                      "linecolor": "white",
                      "ticks": "",
                      "title": {
                        "standoff": 15
                      },
                      "zerolinecolor": "white",
                      "zerolinewidth": 2
                    },
                    "yaxis": {
                      "automargin": true,
                      "gridcolor": "white",
                      "linecolor": "white",
                      "ticks": "",
                      "title": {
                        "standoff": 15
                      },
                      "zerolinecolor": "white",
                      "zerolinewidth": 2
                    }
                  }
                },
                "title": {
                  "text": "Dependence of the metric value on the number of features"
                },
                "width": 700,
                "xaxis": {
                  "dtick": 1,
                  "range": [
                    -0.5,
                    6.5
                  ],
                  "title": {
                    "text": "Featues"
                  }
                },
                "yaxis": {
                  "title": {
                    "text": "Metrics"
                  }
                }
              }
            }
          },
          "metadata": {},
          "output_type": "display_data"
        }
      ],
      "source": [
        "# График зависимости метрики от числа признаков\n",
        "line()"
      ]
    },
    {
      "cell_type": "code",
      "execution_count": 17,
      "metadata": {
        "colab": {
          "base_uri": "https://localhost:8080/",
          "height": 517
        },
        "id": "sxkyumEjztZ7",
        "outputId": "ed201345-7984-42f6-e2ae-b69145a038ee"
      },
      "outputs": [
        {
          "data": {
            "application/vnd.plotly.v1+json": {
              "config": {
                "plotlyServerURL": "https://plot.ly"
              },
              "data": [
                {
                  "mode": "lines",
                  "name": "ROC curve test (area = 0.91)",
                  "type": "scatter",
                  "x": [
                    0,
                    0.00012596044841919638,
                    0.00012596044841919638,
                    0.00012596044841919638,
                    0.0017634462778687492,
                    0.0017634462778687492,
                    0.0017634462778687492,
                    0.0018264265020783473,
                    0.0025192089683839275,
                    0.0025192089683839275,
                    0.003337951883108704,
                    0.0034639123315279,
                    0.0035268925557374983,
                    0.004282655246252677,
                    0.004408615694671873,
                    0.004660536591510266,
                    0.05120292228240333,
                    0.05120292228240333,
                    0.05132888273082252,
                    0.05176974430028971,
                    0.05296636856027207,
                    0.05724902380652475,
                    0.05724902380652475,
                    0.07557626905151782,
                    0.07557626905151782,
                    0.07570222949993702,
                    0.0762060712936138,
                    0.0762060712936138,
                    0.0762060712936138,
                    0.076332031742033,
                    0.07740269555359618,
                    0.07834739891674014,
                    0.0833228366292984,
                    0.09957173447537473,
                    0.09963471469958433,
                    0.09963471469958433,
                    0.09976067514800353,
                    0.1005794180627283,
                    0.10139816097745308,
                    0.11330142335306714,
                    0.11418314649200151,
                    0.11500188940672629,
                    0.11500188940672629,
                    0.12394508124448923,
                    0.1321954906159466,
                    0.1323214510643658,
                    0.13301423353067138,
                    0.13421085779065373,
                    0.13452575891170174,
                    0.13452575891170174,
                    0.13610026451694168,
                    0.13761178989797204,
                    0.25601461141201665,
                    0.256896334550951,
                    0.25758911701725656,
                    0.2577150774656758,
                    0.26911449804761306,
                    0.26911449804761306,
                    0.26911449804761306,
                    0.26936641894445146,
                    0.27301927194860814,
                    0.28359994961582063,
                    0.2837259100642398,
                    0.3232145106436579,
                    0.32522987781836504,
                    0.326489482302557,
                    0.34941428391485074,
                    0.34941428391485074,
                    0.34941428391485074,
                    0.34941428391485074,
                    0.34991812570852754,
                    0.35615316790527773,
                    0.35842045597682326,
                    0.3644035772767351,
                    0.3673006675903766,
                    0.3674896082630054,
                    0.36893815341982616,
                    0.3703237183524373,
                    0.3703237183524373,
                    0.38821010202796324,
                    0.3891548053911072,
                    0.38978460763320316,
                    0.40093210731830203,
                    0.40143594911197883,
                    0.40156190956039806,
                    0.40156190956039806,
                    0.40187681068144604,
                    0.40187681068144604,
                    0.4050888021161355,
                    0.4084267539992442,
                    0.42209346265272707,
                    0.42221942310114624,
                    0.4232900869127094,
                    0.4239198891548054,
                    0.4239198891548054,
                    0.43664189444514423,
                    0.43664189444514423,
                    0.43664189444514423,
                    0.43664189444514423,
                    0.43683083511777304,
                    0.4372716966872402,
                    0.4380274593777554,
                    0.438090439601965,
                    0.44293991686610407,
                    0.445459125834488,
                    0.4472855523365663,
                    0.5503841793676786,
                    0.5503841793676786,
                    0.5503841793676786,
                    0.5505101398160978,
                    0.5593903514296511,
                    0.5601461141201662,
                    0.560649955913843,
                    0.5616576395011966,
                    0.5618465801738254,
                    0.5639879077969517,
                    0.576017130620985,
                    0.576017130620985,
                    0.6696057437964479,
                    0.6711172691774783,
                    0.6721879329890414,
                    0.6810051643783852,
                    0.6811311248268044,
                    0.6811311248268044,
                    0.6813200654994331,
                    0.6816349666204812,
                    0.6816349666204812,
                    0.6879959692656505,
                    0.6994583700717975,
                    0.7012218163496662,
                    0.7015367174707142,
                    0.7019775790401814,
                    0.7028593021791157,
                    0.7143217029852627,
                    0.7143217029852627,
                    0.7143217029852627,
                    0.7149515052273586,
                    0.7150774656757778,
                    0.7152664063484065,
                    0.7169038921778561,
                    0.7185413780073057,
                    0.7197380022672881,
                    0.727421589620859,
                    0.7317672250913213,
                    0.7319561657639502,
                    0.7325229877818366,
                    0.7327119284544653,
                    0.7329008691270941,
                    0.7338455724902381,
                    0.7416551202922282,
                    0.7423479027585338,
                    0.7435445270185161,
                    0.8014863332913466,
                    0.8014863332913466,
                    0.8023050762060713,
                    0.8033127597934249,
                    0.803438720241844,
                    0.8045723642776168,
                    0.8100516437838519,
                    0.8962085905025822,
                    0.8962085905025822,
                    0.8964605113994206,
                    0.8965864718478398,
                    0.8980979972288702,
                    0.9040811185287819,
                    0.9166771633707016,
                    0.9229751857916614,
                    0.9231011462400807,
                    0.9234790275853382,
                    0.9268799596926565,
                    0.9272578410379141,
                    0.9280136037284292,
                    0.9287693664189445,
                    0.9357601713062098,
                    0.9358861317546291,
                    0.9363899735483059,
                    0.937145736238821,
                    0.9893563421085779,
                    0.9894193223327875,
                    0.9928202544401058,
                    0.9994331779821136,
                    1
                  ],
                  "y": [
                    0,
                    0.1157196184155952,
                    0.11646619659892161,
                    0.12841144753214434,
                    0.19203649937785153,
                    0.19228535877229366,
                    0.19270012442969722,
                    0.19419328079635007,
                    0.2562422231439237,
                    0.2563251762754044,
                    0.32451265035255084,
                    0.3250103691414351,
                    0.32534218166735795,
                    0.3901285773537951,
                    0.39079220240564083,
                    0.39162173372044795,
                    0.521277478224803,
                    0.5216092907507258,
                    0.5217751970136872,
                    0.582911654914973,
                    0.5847366238075488,
                    0.5964330153463293,
                    0.6139361260887598,
                    0.6850269597677312,
                    0.6855246785566155,
                    0.6855246785566155,
                    0.6857735379510577,
                    0.6871007880547491,
                    0.6895893819991704,
                    0.7003732890916632,
                    0.7010369141435089,
                    0.7015346329323932,
                    0.7041061800082953,
                    0.7701368726669432,
                    0.7705516383243467,
                    0.7715470759021154,
                    0.7715470759021154,
                    0.7717129821650768,
                    0.7719618415595189,
                    0.7862297801742015,
                    0.7866445458316051,
                    0.7867274989630858,
                    0.7868104520945666,
                    0.7868104520945666,
                    0.8510991289921195,
                    0.8511820821236001,
                    0.8514309415180423,
                    0.8523434259643301,
                    0.8523434259643301,
                    0.856739941932808,
                    0.856739941932808,
                    0.856739941932808,
                    0.8717544587308171,
                    0.8725010369141435,
                    0.8725010369141435,
                    0.8725010369141435,
                    0.8725010369141435,
                    0.8727498963085857,
                    0.8730817088345085,
                    0.8825383658233098,
                    0.8830360846121941,
                    0.8836997096640398,
                    0.8836997096640398,
                    0.9031936955620075,
                    0.9031936955620075,
                    0.9031936955620075,
                    0.9131480713396931,
                    0.9132310244711738,
                    0.913479883865616,
                    0.9140605557859809,
                    0.9141435089174617,
                    0.9141435089174617,
                    0.9153048527581916,
                    0.9174616341766901,
                    0.924180837826628,
                    0.924180837826628,
                    0.9243467440895894,
                    0.9243467440895894,
                    0.9245126503525508,
                    0.9245956034840315,
                    0.9245956034840315,
                    0.9245956034840315,
                    0.9338034010783907,
                    0.9339693073413521,
                    0.9340522604728329,
                    0.9343840729987557,
                    0.9343840729987557,
                    0.9357942762339279,
                    0.9357942762339279,
                    0.9357942762339279,
                    0.9435918705931149,
                    0.9435918705931149,
                    0.9438407299875571,
                    0.9438407299875571,
                    0.9440066362505185,
                    0.9440066362505185,
                    0.9440895893819992,
                    0.9443384487764414,
                    0.9511406055578598,
                    0.9511406055578598,
                    0.9513065118208213,
                    0.9513894649523019,
                    0.9513894649523019,
                    0.9537951057652426,
                    0.9537951057652426,
                    0.9537951057652426,
                    0.9651596847781003,
                    0.9652426379095811,
                    0.9659062629614268,
                    0.9659062629614268,
                    0.9659062629614268,
                    0.966155122355869,
                    0.9663210286188304,
                    0.9749481542928246,
                    0.9749481542928246,
                    0.975114060555786,
                    0.9761924512650353,
                    0.976275404396516,
                    0.976275404396516,
                    0.976275404396516,
                    0.976275404396516,
                    0.9808378266279552,
                    0.9808378266279552,
                    0.9810037328909166,
                    0.9822480298631273,
                    0.9823309829946081,
                    0.9829946080464538,
                    0.9829946080464538,
                    0.9829946080464538,
                    0.9873911240149316,
                    0.9873911240149316,
                    0.9873911240149316,
                    0.9873911240149316,
                    0.9873911240149316,
                    0.9877229365408544,
                    0.9878058896723352,
                    0.9878058896723352,
                    0.9878058896723352,
                    0.9879717959352966,
                    0.9885524678556615,
                    0.9885524678556615,
                    0.9885524678556615,
                    0.9927001244296972,
                    0.9927001244296972,
                    0.9930319369556201,
                    0.9931148900871007,
                    0.9931148900871007,
                    0.9931978432185815,
                    0.9932807963500622,
                    0.9932807963500622,
                    0.9932807963500622,
                    0.9932807963500622,
                    0.9985897967648278,
                    0.9990045624222315,
                    0.9990045624222315,
                    0.9990045624222315,
                    0.9990045624222315,
                    0.9992534218166735,
                    0.9992534218166735,
                    0.9992534218166735,
                    0.999419328079635,
                    0.999419328079635,
                    0.999419328079635,
                    1,
                    1,
                    1,
                    1,
                    1,
                    1,
                    1,
                    1,
                    1,
                    1,
                    1,
                    1,
                    1,
                    1,
                    1,
                    1,
                    1,
                    1,
                    1
                  ]
                },
                {
                  "mode": "lines",
                  "name": "ROC curve train (area = 0.91)",
                  "type": "scatter",
                  "x": [
                    0,
                    0,
                    0,
                    0,
                    0.0018895427306591804,
                    0.0018895427306591804,
                    0.0018895427306591804,
                    0.0019165361982400259,
                    0.002564379420180316,
                    0.002564379420180316,
                    0.0037520919937375154,
                    0.0037520919937375154,
                    0.0038060789288992063,
                    0.004534902553582033,
                    0.004588889488743724,
                    0.004831830696971333,
                    0.05155752307941478,
                    0.05155752307941478,
                    0.05161151001457647,
                    0.05209739243103169,
                    0.053366085407331426,
                    0.05746909247961993,
                    0.05746909247961993,
                    0.07601360470766075,
                    0.07606759164282244,
                    0.07609458511040328,
                    0.07644550018895427,
                    0.07644550018895427,
                    0.07644550018895427,
                    0.07685040220266695,
                    0.07803811477622416,
                    0.07922582734978136,
                    0.08494844247692059,
                    0.10119850996058953,
                    0.10119850996058953,
                    0.10122550342817038,
                    0.10122550342817038,
                    0.10133347729849376,
                    0.10211628785833828,
                    0.10281811801544026,
                    0.1146682502834314,
                    0.11607191059763537,
                    0.11685472115747988,
                    0.11685472115747988,
                    0.12700426496787778,
                    0.13658694595907792,
                    0.13666792636182043,
                    0.1374777303892458,
                    0.13823354748150948,
                    0.13844949522215624,
                    0.13844949522215624,
                    0.14058197916104304,
                    0.14176969173460022,
                    0.25616800734222317,
                    0.2569508179020677,
                    0.2571937591102953,
                    0.25732872644819954,
                    0.2671003617124656,
                    0.2671003617124656,
                    0.2671003617124656,
                    0.2672353290503698,
                    0.2675862441289208,
                    0.271041407979269,
                    0.2822436970253199,
                    0.28229768396048155,
                    0.3210063164714139,
                    0.3229228526696539,
                    0.32394860443772605,
                    0.3506991308103439,
                    0.3506991308103439,
                    0.35072612427792477,
                    0.35072612427792477,
                    0.3510500458888949,
                    0.35698860875668087,
                    0.3598769097878313,
                    0.36430383847109,
                    0.3669761917615937,
                    0.3671651460346596,
                    0.36913566916806134,
                    0.3704853425471036,
                    0.3704853425471036,
                    0.3885439723586892,
                    0.38948874372401876,
                    0.3900286130756357,
                    0.40171678453814175,
                    0.40190573881120767,
                    0.4023376342925012,
                    0.4025265885655671,
                    0.4026885493710522,
                    0.4026885493710522,
                    0.4055498569346218,
                    0.40800626248447874,
                    0.41950547967391894,
                    0.4196134535442423,
                    0.4206392053123144,
                    0.4209901203908654,
                    0.4210441073260271,
                    0.43516169087080925,
                    0.43516169087080925,
                    0.43516169087080925,
                    0.43516169087080925,
                    0.43535064514387517,
                    0.4360524753009772,
                    0.43694325973114506,
                    0.43710522053663015,
                    0.44215299897424826,
                    0.4447983587971711,
                    0.4463639799168601,
                    0.5482103330993899,
                    0.5482103330993899,
                    0.5482103330993899,
                    0.5482373265669708,
                    0.5560924256329968,
                    0.5565243211142903,
                    0.557280138206554,
                    0.5583058899746262,
                    0.5586298115855963,
                    0.5605463477838363,
                    0.570210009177779,
                    0.570210009177779,
                    0.6654969497381633,
                    0.6669006100523673,
                    0.667656427144631,
                    0.6754575392754953,
                    0.675511526210657,
                    0.6756195000809804,
                    0.675673487016142,
                    0.6763483237056632,
                    0.6763483237056632,
                    0.6820169518976408,
                    0.6933542082815959,
                    0.6954057118177401,
                    0.6955406791556443,
                    0.695945581169357,
                    0.6965124439885547,
                    0.6965124439885547,
                    0.7082006154510608,
                    0.7082006154510608,
                    0.7082006154510608,
                    0.7090644064136479,
                    0.7091453868163904,
                    0.7092803541542947,
                    0.7093073476218755,
                    0.7110079360794688,
                    0.7130324461480322,
                    0.7150029692814339,
                    0.7220212708524537,
                    0.7270690492900718,
                    0.7271770231603952,
                    0.7276089186416888,
                    0.7277438859795929,
                    0.7278518598499163,
                    0.7283377422663715,
                    0.737002645359823,
                    0.7377044755169249,
                    0.7382983318037035,
                    0.8015980132807861,
                    0.8015980132807861,
                    0.8015980132807861,
                    0.8024348107757923,
                    0.8032446148032176,
                    0.8033795821411218,
                    0.8045942881822599,
                    0.8108297791934352,
                    0.9001781568860335,
                    0.9001781568860335,
                    0.9001781568860335,
                    0.9002591372887762,
                    0.9005830588997462,
                    0.9015818172002376,
                    0.9065756087026939,
                    0.9178318846839065,
                    0.9178318846839065,
                    0.9227986827187821,
                    0.9229066565891054,
                    0.9230416239270096,
                    0.9235814932786266,
                    0.9270096636613939,
                    0.9274415591426874,
                    0.9281433892997895,
                    0.928224369702532,
                    0.9287102521189872,
                    0.9290611671975382,
                    0.9356745667548453,
                    0.9357285536900071,
                    0.9361874426388814,
                    0.9371052205366301,
                    0.9891486260325001,
                    0.9892296064352427,
                    0.9924148356097824,
                    0.9995141175835448,
                    1
                  ],
                  "y": [
                    0,
                    0.11998293576024743,
                    0.12133385474065911,
                    0.13317217106900353,
                    0.20174908457463828,
                    0.2021756905684525,
                    0.20306445305556542,
                    0.2040243165416474,
                    0.26797966511429483,
                    0.2680152156137794,
                    0.339400618578691,
                    0.3396139215755981,
                    0.33989832557147426,
                    0.4025738561626791,
                    0.4032848661523694,
                    0.404422482135874,
                    0.5357460272316826,
                    0.5362792847239504,
                    0.536457037221373,
                    0.5964662803512389,
                    0.5981016033275267,
                    0.6097266166589641,
                    0.6277507198976146,
                    0.6933058409470653,
                    0.6936613459419105,
                    0.6936613459419105,
                    0.6940879519357247,
                    0.6950833659212912,
                    0.6968253403960326,
                    0.7091613637171602,
                    0.7097301717089125,
                    0.7103345302001494,
                    0.7131785701589107,
                    0.7801557111877422,
                    0.7803690141846493,
                    0.7806534181805255,
                    0.7812933271712468,
                    0.7812933271712468,
                    0.7815777311671229,
                    0.7818976856624835,
                    0.7960823349568061,
                    0.7966511429485584,
                    0.7967222439475274,
                    0.796757794447012,
                    0.796757794447012,
                    0.857869103060898,
                    0.857869103060898,
                    0.8582601585552277,
                    0.8586867645490419,
                    0.8586867645490419,
                    0.8620996124995556,
                    0.8620996124995556,
                    0.8620996124995556,
                    0.8767819687866615,
                    0.8773507767784138,
                    0.8773507767784138,
                    0.8774574282768672,
                    0.8774574282768672,
                    0.8778129332717125,
                    0.8782395392655267,
                    0.885953997653667,
                    0.885953997653667,
                    0.8862739521490277,
                    0.8874826691315013,
                    0.8874826691315013,
                    0.9057556258665435,
                    0.9057556258665435,
                    0.9057556258665435,
                    0.914998755732518,
                    0.9150343062320025,
                    0.9153542607273633,
                    0.9158519677201464,
                    0.915887518219631,
                    0.915887518219631,
                    0.9168829322051975,
                    0.9187671086778769,
                    0.9277969355469444,
                    0.9277969355469444,
                    0.9280102385438516,
                    0.9281879910412741,
                    0.9282946425397277,
                    0.9282946425397277,
                    0.9282946425397277,
                    0.9282946425397277,
                    0.9367201109175584,
                    0.9367912119165275,
                    0.9371822674108571,
                    0.9376799744036404,
                    0.9377155249031249,
                    0.9389242418855985,
                    0.9389242418855985,
                    0.9389242418855985,
                    0.9453944327917807,
                    0.9453944327917807,
                    0.9454655337907497,
                    0.9454655337907497,
                    0.9455010842902343,
                    0.9455010842902343,
                    0.9456788367876569,
                    0.9457143872871414,
                    0.9529311386824985,
                    0.9529311386824985,
                    0.953037790180952,
                    0.9531799921788902,
                    0.9531799921788902,
                    0.9550641686515695,
                    0.9550641686515695,
                    0.9550641686515695,
                    0.9664047779871308,
                    0.9666891819830069,
                    0.9673646414732127,
                    0.9673646414732127,
                    0.9673646414732127,
                    0.9676845959685734,
                    0.9681112019623875,
                    0.9747235948665078,
                    0.9747235948665078,
                    0.9750790998613531,
                    0.976038963347435,
                    0.976110064346404,
                    0.976110064346404,
                    0.976110064346404,
                    0.976110064346404,
                    0.982011447260834,
                    0.982011447260834,
                    0.9823314017561947,
                    0.9828646592484624,
                    0.982900209747947,
                    0.9837178712360909,
                    0.9837178712360909,
                    0.9837178712360909,
                    0.9877706281773259,
                    0.9877706281773259,
                    0.988055032173202,
                    0.9880905826726866,
                    0.988126133172171,
                    0.988126133172171,
                    0.9883394361690782,
                    0.9884460876675317,
                    0.9884460876675317,
                    0.9885527391659853,
                    0.9885527391659853,
                    0.9885527391659853,
                    0.9896192541505208,
                    0.9896192541505208,
                    0.9896192541505208,
                    0.9935653595933023,
                    0.9935653595933023,
                    0.9937431120907249,
                    0.993885314088663,
                    0.993885314088663,
                    0.99409861708557,
                    0.9941697180845391,
                    0.9941697180845391,
                    0.9941697180845391,
                    0.9941697180845391,
                    0.9982580255252587,
                    0.9983291265242277,
                    0.9990045860144335,
                    0.9990045860144335,
                    0.9990045860144335,
                    0.9990045860144335,
                    0.9991823385118561,
                    0.9991823385118561,
                    0.9991823385118561,
                    0.9992534395108251,
                    0.9992889900103097,
                    0.9992889900103097,
                    0.9992889900103097,
                    0.9997866970030929,
                    0.9997866970030929,
                    0.9997866970030929,
                    0.999857798002062,
                    0.999857798002062,
                    0.999928899001031,
                    1,
                    1,
                    1,
                    1,
                    1,
                    1,
                    1,
                    1,
                    1,
                    1,
                    1,
                    1,
                    1,
                    1,
                    1,
                    1,
                    1
                  ]
                },
                {
                  "line": {
                    "dash": "dash"
                  },
                  "mode": "lines",
                  "name": "Random",
                  "type": "scatter",
                  "x": [
                    0,
                    1
                  ],
                  "y": [
                    0,
                    1
                  ]
                }
              ],
              "layout": {
                "height": 500,
                "showlegend": true,
                "template": {
                  "data": {
                    "bar": [
                      {
                        "error_x": {
                          "color": "#2a3f5f"
                        },
                        "error_y": {
                          "color": "#2a3f5f"
                        },
                        "marker": {
                          "line": {
                            "color": "#E5ECF6",
                            "width": 0.5
                          },
                          "pattern": {
                            "fillmode": "overlay",
                            "size": 10,
                            "solidity": 0.2
                          }
                        },
                        "type": "bar"
                      }
                    ],
                    "barpolar": [
                      {
                        "marker": {
                          "line": {
                            "color": "#E5ECF6",
                            "width": 0.5
                          },
                          "pattern": {
                            "fillmode": "overlay",
                            "size": 10,
                            "solidity": 0.2
                          }
                        },
                        "type": "barpolar"
                      }
                    ],
                    "carpet": [
                      {
                        "aaxis": {
                          "endlinecolor": "#2a3f5f",
                          "gridcolor": "white",
                          "linecolor": "white",
                          "minorgridcolor": "white",
                          "startlinecolor": "#2a3f5f"
                        },
                        "baxis": {
                          "endlinecolor": "#2a3f5f",
                          "gridcolor": "white",
                          "linecolor": "white",
                          "minorgridcolor": "white",
                          "startlinecolor": "#2a3f5f"
                        },
                        "type": "carpet"
                      }
                    ],
                    "choropleth": [
                      {
                        "colorbar": {
                          "outlinewidth": 0,
                          "ticks": ""
                        },
                        "type": "choropleth"
                      }
                    ],
                    "contour": [
                      {
                        "colorbar": {
                          "outlinewidth": 0,
                          "ticks": ""
                        },
                        "colorscale": [
                          [
                            0,
                            "#0d0887"
                          ],
                          [
                            0.1111111111111111,
                            "#46039f"
                          ],
                          [
                            0.2222222222222222,
                            "#7201a8"
                          ],
                          [
                            0.3333333333333333,
                            "#9c179e"
                          ],
                          [
                            0.4444444444444444,
                            "#bd3786"
                          ],
                          [
                            0.5555555555555556,
                            "#d8576b"
                          ],
                          [
                            0.6666666666666666,
                            "#ed7953"
                          ],
                          [
                            0.7777777777777778,
                            "#fb9f3a"
                          ],
                          [
                            0.8888888888888888,
                            "#fdca26"
                          ],
                          [
                            1,
                            "#f0f921"
                          ]
                        ],
                        "type": "contour"
                      }
                    ],
                    "contourcarpet": [
                      {
                        "colorbar": {
                          "outlinewidth": 0,
                          "ticks": ""
                        },
                        "type": "contourcarpet"
                      }
                    ],
                    "heatmap": [
                      {
                        "colorbar": {
                          "outlinewidth": 0,
                          "ticks": ""
                        },
                        "colorscale": [
                          [
                            0,
                            "#0d0887"
                          ],
                          [
                            0.1111111111111111,
                            "#46039f"
                          ],
                          [
                            0.2222222222222222,
                            "#7201a8"
                          ],
                          [
                            0.3333333333333333,
                            "#9c179e"
                          ],
                          [
                            0.4444444444444444,
                            "#bd3786"
                          ],
                          [
                            0.5555555555555556,
                            "#d8576b"
                          ],
                          [
                            0.6666666666666666,
                            "#ed7953"
                          ],
                          [
                            0.7777777777777778,
                            "#fb9f3a"
                          ],
                          [
                            0.8888888888888888,
                            "#fdca26"
                          ],
                          [
                            1,
                            "#f0f921"
                          ]
                        ],
                        "type": "heatmap"
                      }
                    ],
                    "heatmapgl": [
                      {
                        "colorbar": {
                          "outlinewidth": 0,
                          "ticks": ""
                        },
                        "colorscale": [
                          [
                            0,
                            "#0d0887"
                          ],
                          [
                            0.1111111111111111,
                            "#46039f"
                          ],
                          [
                            0.2222222222222222,
                            "#7201a8"
                          ],
                          [
                            0.3333333333333333,
                            "#9c179e"
                          ],
                          [
                            0.4444444444444444,
                            "#bd3786"
                          ],
                          [
                            0.5555555555555556,
                            "#d8576b"
                          ],
                          [
                            0.6666666666666666,
                            "#ed7953"
                          ],
                          [
                            0.7777777777777778,
                            "#fb9f3a"
                          ],
                          [
                            0.8888888888888888,
                            "#fdca26"
                          ],
                          [
                            1,
                            "#f0f921"
                          ]
                        ],
                        "type": "heatmapgl"
                      }
                    ],
                    "histogram": [
                      {
                        "marker": {
                          "pattern": {
                            "fillmode": "overlay",
                            "size": 10,
                            "solidity": 0.2
                          }
                        },
                        "type": "histogram"
                      }
                    ],
                    "histogram2d": [
                      {
                        "colorbar": {
                          "outlinewidth": 0,
                          "ticks": ""
                        },
                        "colorscale": [
                          [
                            0,
                            "#0d0887"
                          ],
                          [
                            0.1111111111111111,
                            "#46039f"
                          ],
                          [
                            0.2222222222222222,
                            "#7201a8"
                          ],
                          [
                            0.3333333333333333,
                            "#9c179e"
                          ],
                          [
                            0.4444444444444444,
                            "#bd3786"
                          ],
                          [
                            0.5555555555555556,
                            "#d8576b"
                          ],
                          [
                            0.6666666666666666,
                            "#ed7953"
                          ],
                          [
                            0.7777777777777778,
                            "#fb9f3a"
                          ],
                          [
                            0.8888888888888888,
                            "#fdca26"
                          ],
                          [
                            1,
                            "#f0f921"
                          ]
                        ],
                        "type": "histogram2d"
                      }
                    ],
                    "histogram2dcontour": [
                      {
                        "colorbar": {
                          "outlinewidth": 0,
                          "ticks": ""
                        },
                        "colorscale": [
                          [
                            0,
                            "#0d0887"
                          ],
                          [
                            0.1111111111111111,
                            "#46039f"
                          ],
                          [
                            0.2222222222222222,
                            "#7201a8"
                          ],
                          [
                            0.3333333333333333,
                            "#9c179e"
                          ],
                          [
                            0.4444444444444444,
                            "#bd3786"
                          ],
                          [
                            0.5555555555555556,
                            "#d8576b"
                          ],
                          [
                            0.6666666666666666,
                            "#ed7953"
                          ],
                          [
                            0.7777777777777778,
                            "#fb9f3a"
                          ],
                          [
                            0.8888888888888888,
                            "#fdca26"
                          ],
                          [
                            1,
                            "#f0f921"
                          ]
                        ],
                        "type": "histogram2dcontour"
                      }
                    ],
                    "mesh3d": [
                      {
                        "colorbar": {
                          "outlinewidth": 0,
                          "ticks": ""
                        },
                        "type": "mesh3d"
                      }
                    ],
                    "parcoords": [
                      {
                        "line": {
                          "colorbar": {
                            "outlinewidth": 0,
                            "ticks": ""
                          }
                        },
                        "type": "parcoords"
                      }
                    ],
                    "pie": [
                      {
                        "automargin": true,
                        "type": "pie"
                      }
                    ],
                    "scatter": [
                      {
                        "fillpattern": {
                          "fillmode": "overlay",
                          "size": 10,
                          "solidity": 0.2
                        },
                        "type": "scatter"
                      }
                    ],
                    "scatter3d": [
                      {
                        "line": {
                          "colorbar": {
                            "outlinewidth": 0,
                            "ticks": ""
                          }
                        },
                        "marker": {
                          "colorbar": {
                            "outlinewidth": 0,
                            "ticks": ""
                          }
                        },
                        "type": "scatter3d"
                      }
                    ],
                    "scattercarpet": [
                      {
                        "marker": {
                          "colorbar": {
                            "outlinewidth": 0,
                            "ticks": ""
                          }
                        },
                        "type": "scattercarpet"
                      }
                    ],
                    "scattergeo": [
                      {
                        "marker": {
                          "colorbar": {
                            "outlinewidth": 0,
                            "ticks": ""
                          }
                        },
                        "type": "scattergeo"
                      }
                    ],
                    "scattergl": [
                      {
                        "marker": {
                          "colorbar": {
                            "outlinewidth": 0,
                            "ticks": ""
                          }
                        },
                        "type": "scattergl"
                      }
                    ],
                    "scattermapbox": [
                      {
                        "marker": {
                          "colorbar": {
                            "outlinewidth": 0,
                            "ticks": ""
                          }
                        },
                        "type": "scattermapbox"
                      }
                    ],
                    "scatterpolar": [
                      {
                        "marker": {
                          "colorbar": {
                            "outlinewidth": 0,
                            "ticks": ""
                          }
                        },
                        "type": "scatterpolar"
                      }
                    ],
                    "scatterpolargl": [
                      {
                        "marker": {
                          "colorbar": {
                            "outlinewidth": 0,
                            "ticks": ""
                          }
                        },
                        "type": "scatterpolargl"
                      }
                    ],
                    "scatterternary": [
                      {
                        "marker": {
                          "colorbar": {
                            "outlinewidth": 0,
                            "ticks": ""
                          }
                        },
                        "type": "scatterternary"
                      }
                    ],
                    "surface": [
                      {
                        "colorbar": {
                          "outlinewidth": 0,
                          "ticks": ""
                        },
                        "colorscale": [
                          [
                            0,
                            "#0d0887"
                          ],
                          [
                            0.1111111111111111,
                            "#46039f"
                          ],
                          [
                            0.2222222222222222,
                            "#7201a8"
                          ],
                          [
                            0.3333333333333333,
                            "#9c179e"
                          ],
                          [
                            0.4444444444444444,
                            "#bd3786"
                          ],
                          [
                            0.5555555555555556,
                            "#d8576b"
                          ],
                          [
                            0.6666666666666666,
                            "#ed7953"
                          ],
                          [
                            0.7777777777777778,
                            "#fb9f3a"
                          ],
                          [
                            0.8888888888888888,
                            "#fdca26"
                          ],
                          [
                            1,
                            "#f0f921"
                          ]
                        ],
                        "type": "surface"
                      }
                    ],
                    "table": [
                      {
                        "cells": {
                          "fill": {
                            "color": "#EBF0F8"
                          },
                          "line": {
                            "color": "white"
                          }
                        },
                        "header": {
                          "fill": {
                            "color": "#C8D4E3"
                          },
                          "line": {
                            "color": "white"
                          }
                        },
                        "type": "table"
                      }
                    ]
                  },
                  "layout": {
                    "annotationdefaults": {
                      "arrowcolor": "#2a3f5f",
                      "arrowhead": 0,
                      "arrowwidth": 1
                    },
                    "autotypenumbers": "strict",
                    "coloraxis": {
                      "colorbar": {
                        "outlinewidth": 0,
                        "ticks": ""
                      }
                    },
                    "colorscale": {
                      "diverging": [
                        [
                          0,
                          "#8e0152"
                        ],
                        [
                          0.1,
                          "#c51b7d"
                        ],
                        [
                          0.2,
                          "#de77ae"
                        ],
                        [
                          0.3,
                          "#f1b6da"
                        ],
                        [
                          0.4,
                          "#fde0ef"
                        ],
                        [
                          0.5,
                          "#f7f7f7"
                        ],
                        [
                          0.6,
                          "#e6f5d0"
                        ],
                        [
                          0.7,
                          "#b8e186"
                        ],
                        [
                          0.8,
                          "#7fbc41"
                        ],
                        [
                          0.9,
                          "#4d9221"
                        ],
                        [
                          1,
                          "#276419"
                        ]
                      ],
                      "sequential": [
                        [
                          0,
                          "#0d0887"
                        ],
                        [
                          0.1111111111111111,
                          "#46039f"
                        ],
                        [
                          0.2222222222222222,
                          "#7201a8"
                        ],
                        [
                          0.3333333333333333,
                          "#9c179e"
                        ],
                        [
                          0.4444444444444444,
                          "#bd3786"
                        ],
                        [
                          0.5555555555555556,
                          "#d8576b"
                        ],
                        [
                          0.6666666666666666,
                          "#ed7953"
                        ],
                        [
                          0.7777777777777778,
                          "#fb9f3a"
                        ],
                        [
                          0.8888888888888888,
                          "#fdca26"
                        ],
                        [
                          1,
                          "#f0f921"
                        ]
                      ],
                      "sequentialminus": [
                        [
                          0,
                          "#0d0887"
                        ],
                        [
                          0.1111111111111111,
                          "#46039f"
                        ],
                        [
                          0.2222222222222222,
                          "#7201a8"
                        ],
                        [
                          0.3333333333333333,
                          "#9c179e"
                        ],
                        [
                          0.4444444444444444,
                          "#bd3786"
                        ],
                        [
                          0.5555555555555556,
                          "#d8576b"
                        ],
                        [
                          0.6666666666666666,
                          "#ed7953"
                        ],
                        [
                          0.7777777777777778,
                          "#fb9f3a"
                        ],
                        [
                          0.8888888888888888,
                          "#fdca26"
                        ],
                        [
                          1,
                          "#f0f921"
                        ]
                      ]
                    },
                    "colorway": [
                      "#636efa",
                      "#EF553B",
                      "#00cc96",
                      "#ab63fa",
                      "#FFA15A",
                      "#19d3f3",
                      "#FF6692",
                      "#B6E880",
                      "#FF97FF",
                      "#FECB52"
                    ],
                    "font": {
                      "color": "#2a3f5f"
                    },
                    "geo": {
                      "bgcolor": "white",
                      "lakecolor": "white",
                      "landcolor": "#E5ECF6",
                      "showlakes": true,
                      "showland": true,
                      "subunitcolor": "white"
                    },
                    "hoverlabel": {
                      "align": "left"
                    },
                    "hovermode": "closest",
                    "mapbox": {
                      "style": "light"
                    },
                    "paper_bgcolor": "white",
                    "plot_bgcolor": "#E5ECF6",
                    "polar": {
                      "angularaxis": {
                        "gridcolor": "white",
                        "linecolor": "white",
                        "ticks": ""
                      },
                      "bgcolor": "#E5ECF6",
                      "radialaxis": {
                        "gridcolor": "white",
                        "linecolor": "white",
                        "ticks": ""
                      }
                    },
                    "scene": {
                      "xaxis": {
                        "backgroundcolor": "#E5ECF6",
                        "gridcolor": "white",
                        "gridwidth": 2,
                        "linecolor": "white",
                        "showbackground": true,
                        "ticks": "",
                        "zerolinecolor": "white"
                      },
                      "yaxis": {
                        "backgroundcolor": "#E5ECF6",
                        "gridcolor": "white",
                        "gridwidth": 2,
                        "linecolor": "white",
                        "showbackground": true,
                        "ticks": "",
                        "zerolinecolor": "white"
                      },
                      "zaxis": {
                        "backgroundcolor": "#E5ECF6",
                        "gridcolor": "white",
                        "gridwidth": 2,
                        "linecolor": "white",
                        "showbackground": true,
                        "ticks": "",
                        "zerolinecolor": "white"
                      }
                    },
                    "shapedefaults": {
                      "line": {
                        "color": "#2a3f5f"
                      }
                    },
                    "ternary": {
                      "aaxis": {
                        "gridcolor": "white",
                        "linecolor": "white",
                        "ticks": ""
                      },
                      "baxis": {
                        "gridcolor": "white",
                        "linecolor": "white",
                        "ticks": ""
                      },
                      "bgcolor": "#E5ECF6",
                      "caxis": {
                        "gridcolor": "white",
                        "linecolor": "white",
                        "ticks": ""
                      }
                    },
                    "title": {
                      "x": 0.05
                    },
                    "xaxis": {
                      "automargin": true,
                      "gridcolor": "white",
                      "linecolor": "white",
                      "ticks": "",
                      "title": {
                        "standoff": 15
                      },
                      "zerolinecolor": "white",
                      "zerolinewidth": 2
                    },
                    "yaxis": {
                      "automargin": true,
                      "gridcolor": "white",
                      "linecolor": "white",
                      "ticks": "",
                      "title": {
                        "standoff": 15
                      },
                      "zerolinecolor": "white",
                      "zerolinewidth": 2
                    }
                  }
                },
                "title": {
                  "text": "Random searching with adaptation"
                },
                "width": 700,
                "xaxis": {
                  "title": {
                    "text": "False Positive Rate"
                  }
                },
                "yaxis": {
                  "title": {
                    "text": "True Positive Rate"
                  }
                }
              }
            }
          },
          "metadata": {},
          "output_type": "display_data"
        }
      ],
      "source": [
        "# График ROC-кривой\n",
        "roc()"
      ]
    }
  ],
  "metadata": {
    "colab": {
      "collapsed_sections": [
        "NUV4d3hZZd9Z",
        "d_uSatA9ZcBt",
        "_Ns1ytZlZ6L2"
      ],
      "provenance": [],
      "toc_visible": true
    },
    "kernelspec": {
      "display_name": "Python 3",
      "name": "python3"
    },
    "language_info": {
      "codemirror_mode": {
        "name": "ipython",
        "version": 3
      },
      "file_extension": ".py",
      "mimetype": "text/x-python",
      "name": "python",
      "nbconvert_exporter": "python",
      "pygments_lexer": "ipython3",
      "version": "3.10.10"
    }
  },
  "nbformat": 4,
  "nbformat_minor": 0
}
